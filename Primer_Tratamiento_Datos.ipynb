{
 "cells": [
  {
   "cell_type": "code",
   "execution_count": 1,
   "metadata": {},
   "outputs": [],
   "source": [
    "import pandas as pd\n",
    "import numpy as np\n",
    "import matplotlib.pyplot as plt\n",
    "import seaborn as sns\n",
    "import scipy.stats as stats\n",
    "from sklearn.linear_model import LinearRegression"
   ]
  },
  {
   "cell_type": "code",
   "execution_count": 2,
   "metadata": {},
   "outputs": [],
   "source": [
    "plt.style.use('ggplot')"
   ]
  },
  {
   "cell_type": "code",
   "execution_count": 3,
   "metadata": {},
   "outputs": [],
   "source": [
    "df = pd.read_excel (r'BASE DE DATOS TESIS ACNE.xlsx')"
   ]
  },
  {
   "cell_type": "code",
   "execution_count": 4,
   "metadata": {},
   "outputs": [],
   "source": [
    "df = df.drop(df.index[[9,10]])"
   ]
  },
  {
   "cell_type": "code",
   "execution_count": 5,
   "metadata": {},
   "outputs": [
    {
     "data": {
      "text/html": [
       "<div>\n",
       "<style scoped>\n",
       "    .dataframe tbody tr th:only-of-type {\n",
       "        vertical-align: middle;\n",
       "    }\n",
       "\n",
       "    .dataframe tbody tr th {\n",
       "        vertical-align: top;\n",
       "    }\n",
       "\n",
       "    .dataframe thead th {\n",
       "        text-align: right;\n",
       "    }\n",
       "</style>\n",
       "<table border=\"1\" class=\"dataframe\">\n",
       "  <thead>\n",
       "    <tr style=\"text-align: right;\">\n",
       "      <th></th>\n",
       "      <th>Registro</th>\n",
       "      <th>Apellido1</th>\n",
       "      <th>Apellido2</th>\n",
       "      <th>Nombre</th>\n",
       "      <th>Fecha de nacimiento</th>\n",
       "      <th>Edad</th>\n",
       "      <th>Sexo</th>\n",
       "      <th>Sesiones Previas</th>\n",
       "      <th>Antecedente familiar</th>\n",
       "      <th>Unnamed: 9</th>\n",
       "      <th>...</th>\n",
       "      <th>SCARS inicial</th>\n",
       "      <th>SCARS fin</th>\n",
       "      <th>ECCA inicial</th>\n",
       "      <th>ECCA final</th>\n",
       "      <th>FASQOL inicial</th>\n",
       "      <th>FASQOL fin</th>\n",
       "      <th>UDE basal</th>\n",
       "      <th>UDE control</th>\n",
       "      <th>DERMIS basal</th>\n",
       "      <th>DERMIS control</th>\n",
       "    </tr>\n",
       "  </thead>\n",
       "  <tbody>\n",
       "    <tr>\n",
       "      <th>0</th>\n",
       "      <td>794818</td>\n",
       "      <td>García</td>\n",
       "      <td>del Motte</td>\n",
       "      <td>Melissa</td>\n",
       "      <td>NaN</td>\n",
       "      <td>18.0</td>\n",
       "      <td>0</td>\n",
       "      <td>NaN</td>\n",
       "      <td>NaN</td>\n",
       "      <td>NaN</td>\n",
       "      <td>...</td>\n",
       "      <td>3.0</td>\n",
       "      <td>3.0</td>\n",
       "      <td>110.0</td>\n",
       "      <td>110.0</td>\n",
       "      <td>NaN</td>\n",
       "      <td>NaN</td>\n",
       "      <td>41.6</td>\n",
       "      <td>20.8</td>\n",
       "      <td>67.7</td>\n",
       "      <td>62.50</td>\n",
       "    </tr>\n",
       "    <tr>\n",
       "      <th>1</th>\n",
       "      <td>860605</td>\n",
       "      <td>Valencia</td>\n",
       "      <td>NaN</td>\n",
       "      <td>Alejandro</td>\n",
       "      <td>NaN</td>\n",
       "      <td>15.0</td>\n",
       "      <td>1</td>\n",
       "      <td>NaN</td>\n",
       "      <td>NaN</td>\n",
       "      <td>NaN</td>\n",
       "      <td>...</td>\n",
       "      <td>4.0</td>\n",
       "      <td>3.0</td>\n",
       "      <td>210.0</td>\n",
       "      <td>190.0</td>\n",
       "      <td>NaN</td>\n",
       "      <td>NaN</td>\n",
       "      <td>45.7</td>\n",
       "      <td>37.1</td>\n",
       "      <td>91.4</td>\n",
       "      <td>68.00</td>\n",
       "    </tr>\n",
       "    <tr>\n",
       "      <th>2</th>\n",
       "      <td>859534</td>\n",
       "      <td>Hernandez</td>\n",
       "      <td>Buendia</td>\n",
       "      <td>Maria Fernanda</td>\n",
       "      <td>NaN</td>\n",
       "      <td>13.0</td>\n",
       "      <td>0</td>\n",
       "      <td>NaN</td>\n",
       "      <td></td>\n",
       "      <td>NaN</td>\n",
       "      <td>...</td>\n",
       "      <td>3.0</td>\n",
       "      <td>3.0</td>\n",
       "      <td>90.0</td>\n",
       "      <td>75.0</td>\n",
       "      <td>NaN</td>\n",
       "      <td>NaN</td>\n",
       "      <td>67.7</td>\n",
       "      <td>57.8</td>\n",
       "      <td>114.5</td>\n",
       "      <td>94.40</td>\n",
       "    </tr>\n",
       "    <tr>\n",
       "      <th>3</th>\n",
       "      <td>854585</td>\n",
       "      <td>Arenas</td>\n",
       "      <td>Dominguez</td>\n",
       "      <td>Andres</td>\n",
       "      <td>NaN</td>\n",
       "      <td>17.0</td>\n",
       "      <td>1</td>\n",
       "      <td>NaN</td>\n",
       "      <td>NaN</td>\n",
       "      <td>NaN</td>\n",
       "      <td>...</td>\n",
       "      <td>4.0</td>\n",
       "      <td>3.0</td>\n",
       "      <td>165.0</td>\n",
       "      <td>120.0</td>\n",
       "      <td>NaN</td>\n",
       "      <td>NaN</td>\n",
       "      <td>212.8</td>\n",
       "      <td>169.7</td>\n",
       "      <td>285.8</td>\n",
       "      <td>201.30</td>\n",
       "    </tr>\n",
       "    <tr>\n",
       "      <th>4</th>\n",
       "      <td>801512</td>\n",
       "      <td>Islas</td>\n",
       "      <td>Mora</td>\n",
       "      <td>Maria Fernanda</td>\n",
       "      <td>NaN</td>\n",
       "      <td>17.0</td>\n",
       "      <td>0</td>\n",
       "      <td>NaN</td>\n",
       "      <td>NaN</td>\n",
       "      <td>NaN</td>\n",
       "      <td>...</td>\n",
       "      <td>3.0</td>\n",
       "      <td>3.0</td>\n",
       "      <td>90.0</td>\n",
       "      <td>75.0</td>\n",
       "      <td>NaN</td>\n",
       "      <td>NaN</td>\n",
       "      <td>88.5</td>\n",
       "      <td>83.3</td>\n",
       "      <td>119.7</td>\n",
       "      <td>93.74</td>\n",
       "    </tr>\n",
       "    <tr>\n",
       "      <th>5</th>\n",
       "      <td>819207</td>\n",
       "      <td>Marín</td>\n",
       "      <td>Saavedra</td>\n",
       "      <td>Adolfo Daniel</td>\n",
       "      <td>NaN</td>\n",
       "      <td>16.0</td>\n",
       "      <td>1</td>\n",
       "      <td>NaN</td>\n",
       "      <td>NaN</td>\n",
       "      <td>NaN</td>\n",
       "      <td>...</td>\n",
       "      <td>2.0</td>\n",
       "      <td>2.0</td>\n",
       "      <td>90.0</td>\n",
       "      <td>90.0</td>\n",
       "      <td>NaN</td>\n",
       "      <td>NaN</td>\n",
       "      <td>78.1</td>\n",
       "      <td>36.4</td>\n",
       "      <td>109.3</td>\n",
       "      <td>62.50</td>\n",
       "    </tr>\n",
       "    <tr>\n",
       "      <th>6</th>\n",
       "      <td>839619</td>\n",
       "      <td>Hernandez</td>\n",
       "      <td>Hernandez</td>\n",
       "      <td>Nallely</td>\n",
       "      <td>NaN</td>\n",
       "      <td>17.0</td>\n",
       "      <td>0</td>\n",
       "      <td>NaN</td>\n",
       "      <td>NaN</td>\n",
       "      <td>NaN</td>\n",
       "      <td>...</td>\n",
       "      <td>3.0</td>\n",
       "      <td>2.0</td>\n",
       "      <td>95.0</td>\n",
       "      <td>65.0</td>\n",
       "      <td>NaN</td>\n",
       "      <td>NaN</td>\n",
       "      <td>57.3</td>\n",
       "      <td>57.3</td>\n",
       "      <td>124.9</td>\n",
       "      <td>83.30</td>\n",
       "    </tr>\n",
       "    <tr>\n",
       "      <th>7</th>\n",
       "      <td>769921</td>\n",
       "      <td>Oloarte</td>\n",
       "      <td>Garcia</td>\n",
       "      <td>Angel</td>\n",
       "      <td></td>\n",
       "      <td>15.0</td>\n",
       "      <td>1</td>\n",
       "      <td>NaN</td>\n",
       "      <td>NaN</td>\n",
       "      <td>NaN</td>\n",
       "      <td>...</td>\n",
       "      <td>3.0</td>\n",
       "      <td>3.0</td>\n",
       "      <td>205.0</td>\n",
       "      <td>135.0</td>\n",
       "      <td>NaN</td>\n",
       "      <td>NaN</td>\n",
       "      <td>35.1</td>\n",
       "      <td>31.2</td>\n",
       "      <td>144.5</td>\n",
       "      <td>124.90</td>\n",
       "    </tr>\n",
       "    <tr>\n",
       "      <th>8</th>\n",
       "      <td>806358</td>\n",
       "      <td>Quinto</td>\n",
       "      <td>Gonzalez</td>\n",
       "      <td>Aldo sebastian</td>\n",
       "      <td>NaN</td>\n",
       "      <td>14.0</td>\n",
       "      <td>1</td>\n",
       "      <td>NaN</td>\n",
       "      <td>NaN</td>\n",
       "      <td>NaN</td>\n",
       "      <td>...</td>\n",
       "      <td>3.0</td>\n",
       "      <td>2.0</td>\n",
       "      <td>100.0</td>\n",
       "      <td>95.0</td>\n",
       "      <td>NaN</td>\n",
       "      <td>NaN</td>\n",
       "      <td>36.4</td>\n",
       "      <td>41.6</td>\n",
       "      <td>109.3</td>\n",
       "      <td>109.30</td>\n",
       "    </tr>\n",
       "  </tbody>\n",
       "</table>\n",
       "<p>9 rows × 23 columns</p>\n",
       "</div>"
      ],
      "text/plain": [
       "   Registro   Apellido1   Apellido2          Nombre Fecha de nacimiento  Edad  \\\n",
       "0     794818     García   del Motte         Melissa                 NaN  18.0   \n",
       "1     860605   Valencia         NaN       Alejandro                 NaN  15.0   \n",
       "2     859534  Hernandez    Buendia   Maria Fernanda                 NaN  13.0   \n",
       "3     854585     Arenas  Dominguez          Andres                  NaN  17.0   \n",
       "4     801512     Islas        Mora   Maria Fernanda                 NaN  17.0   \n",
       "5     819207     Marín     Saavedra   Adolfo Daniel                 NaN  16.0   \n",
       "6     839619  Hernandez   Hernandez         Nallely                 NaN  17.0   \n",
       "7     769921    Oloarte      Garcia           Angel                      15.0   \n",
       "8     806358     Quinto    Gonzalez  Aldo sebastian                 NaN  14.0   \n",
       "\n",
       "   Sexo  Sesiones Previas Antecedente familiar  Unnamed: 9  ...  \\\n",
       "0     0               NaN                  NaN         NaN  ...   \n",
       "1     1               NaN                  NaN         NaN  ...   \n",
       "2     0               NaN                              NaN  ...   \n",
       "3     1               NaN                  NaN         NaN  ...   \n",
       "4     0               NaN                  NaN         NaN  ...   \n",
       "5     1               NaN                  NaN         NaN  ...   \n",
       "6     0               NaN                  NaN         NaN  ...   \n",
       "7     1               NaN                  NaN         NaN  ...   \n",
       "8     1               NaN                  NaN         NaN  ...   \n",
       "\n",
       "   SCARS inicial  SCARS fin  ECCA inicial  ECCA final  FASQOL inicial  \\\n",
       "0            3.0        3.0         110.0       110.0             NaN   \n",
       "1            4.0        3.0         210.0       190.0             NaN   \n",
       "2            3.0        3.0          90.0        75.0             NaN   \n",
       "3            4.0        3.0         165.0       120.0             NaN   \n",
       "4            3.0        3.0          90.0        75.0             NaN   \n",
       "5            2.0        2.0          90.0        90.0             NaN   \n",
       "6            3.0        2.0          95.0        65.0             NaN   \n",
       "7            3.0        3.0         205.0       135.0             NaN   \n",
       "8            3.0        2.0         100.0        95.0             NaN   \n",
       "\n",
       "   FASQOL fin  UDE basal  UDE control  DERMIS basal  DERMIS control  \n",
       "0         NaN       41.6         20.8          67.7           62.50  \n",
       "1         NaN       45.7         37.1          91.4           68.00  \n",
       "2         NaN       67.7         57.8         114.5           94.40  \n",
       "3         NaN      212.8        169.7         285.8          201.30  \n",
       "4         NaN       88.5         83.3         119.7           93.74  \n",
       "5         NaN       78.1         36.4         109.3           62.50  \n",
       "6         NaN       57.3         57.3         124.9           83.30  \n",
       "7         NaN       35.1         31.2         144.5          124.90  \n",
       "8         NaN       36.4         41.6         109.3          109.30  \n",
       "\n",
       "[9 rows x 23 columns]"
      ]
     },
     "execution_count": 5,
     "metadata": {},
     "output_type": "execute_result"
    }
   ],
   "source": [
    "df"
   ]
  },
  {
   "cell_type": "code",
   "execution_count": 6,
   "metadata": {},
   "outputs": [
    {
     "data": {
      "text/plain": [
       "Index(['Registro ', 'Apellido1', 'Apellido2', 'Nombre', 'Fecha de nacimiento',\n",
       "       'Edad', 'Sexo', 'Sesiones Previas', 'Antecedente familiar',\n",
       "       'Unnamed: 9', 'Unnamed: 10', 'áreas afectadas', 'Unnamed: 12',\n",
       "       'SCARS inicial', 'SCARS fin', 'ECCA inicial', 'ECCA final',\n",
       "       'FASQOL inicial', 'FASQOL fin', 'UDE basal', 'UDE control',\n",
       "       'DERMIS basal', 'DERMIS control'],\n",
       "      dtype='object')"
      ]
     },
     "execution_count": 6,
     "metadata": {},
     "output_type": "execute_result"
    }
   ],
   "source": [
    "df.keys()"
   ]
  },
  {
   "cell_type": "code",
   "execution_count": 7,
   "metadata": {},
   "outputs": [],
   "source": [
    "delta_UDE = df['UDE control']-df['UDE basal']"
   ]
  },
  {
   "cell_type": "code",
   "execution_count": 8,
   "metadata": {},
   "outputs": [],
   "source": [
    "delta_DERMIS = df['DERMIS control']-df['DERMIS basal']"
   ]
  },
  {
   "cell_type": "code",
   "execution_count": 22,
   "metadata": {},
   "outputs": [],
   "source": [
    "delta_SCARS = df['SCARS fin']-df['SCARS inicial']"
   ]
  },
  {
   "cell_type": "code",
   "execution_count": 23,
   "metadata": {},
   "outputs": [],
   "source": [
    "delta_ECCA = df['ECCA final']-df['ECCA inicial']"
   ]
  },
  {
   "cell_type": "markdown",
   "metadata": {},
   "source": [
    "# UDE"
   ]
  },
  {
   "cell_type": "code",
   "execution_count": 18,
   "metadata": {},
   "outputs": [
    {
     "data": {
      "text/plain": [
       "Text(0, 0.5, '-(UDE control - UDE basal)')"
      ]
     },
     "execution_count": 18,
     "metadata": {},
     "output_type": "execute_result"
    },
    {
     "data": {
      "image/png": "[encoded data removed]",
      "text/plain": [
       "<Figure size 432x288 with 1 Axes>"
      ]
     },
     "metadata": {},
     "output_type": "display_data"
    }
   ],
   "source": [
    "plt.plot(df['UDE basal'],-delta_UDE,'o')\n",
    "plt.title(\"Subida de UDE\")\n",
    "plt.xlabel(\"UDE basal\")\n",
    "plt.ylabel(\"-(UDE control - UDE basal)\")"
   ]
  },
  {
   "cell_type": "code",
   "execution_count": 10,
   "metadata": {},
   "outputs": [
    {
     "data": {
      "text/plain": [
       "Text(0, 0.5, '-(UDE control - UDE basal)')"
      ]
     },
     "execution_count": 10,
     "metadata": {},
     "output_type": "execute_result"
    },
    {
     "data": {
      "image/png": "[encoded data removed]",
      "text/plain": [
       "<Figure size 432x288 with 1 Axes>"
      ]
     },
     "metadata": {},
     "output_type": "display_data"
    }
   ],
   "source": [
    "plt.plot(df['Edad'],-delta_UDE,'o')\n",
    "plt.title(\"Subida de UDE\")\n",
    "plt.xlabel(\"Edad\")\n",
    "plt.ylabel(\"-(UDE control - UDE basal)\")"
   ]
  },
  {
   "cell_type": "markdown",
   "metadata": {},
   "source": [
    "# DERMIS"
   ]
  },
  {
   "cell_type": "code",
   "execution_count": 11,
   "metadata": {},
   "outputs": [
    {
     "data": {
      "text/plain": [
       "Text(0, 0.5, '-(DERMIS control - DERMIS basal)')"
      ]
     },
     "execution_count": 11,
     "metadata": {},
     "output_type": "execute_result"
    },
    {
     "data": {
      "image/png": "[encoded data removed]",
      "text/plain": [
       "<Figure size 432x288 with 1 Axes>"
      ]
     },
     "metadata": {},
     "output_type": "display_data"
    }
   ],
   "source": [
    "plt.plot(df['DERMIS basal'],-delta_DERMIS,'o')\n",
    "plt.title(\"Subida de DERMIS\")\n",
    "plt.xlabel(\"DERMIS basal\")\n",
    "plt.ylabel(\"-(DERMIS control - DERMIS basal)\")"
   ]
  },
  {
   "cell_type": "code",
   "execution_count": 12,
   "metadata": {},
   "outputs": [
    {
     "data": {
      "text/plain": [
       "Text(0, 0.5, '-(DERMIS control - DERMIS basal)')"
      ]
     },
     "execution_count": 12,
     "metadata": {},
     "output_type": "execute_result"
    },
    {
     "data": {
      "image/png": "[encoded data removed]",
      "text/plain": [
       "<Figure size 432x288 with 1 Axes>"
      ]
     },
     "metadata": {},
     "output_type": "display_data"
    }
   ],
   "source": [
    "plt.plot(df['Edad'],-delta_DERMIS,'o')\n",
    "plt.title(\"Subida de DERMIS\")\n",
    "plt.xlabel(\"Edad\")\n",
    "plt.ylabel(\"-(DERMIS control - DERMIS basal)\")"
   ]
  },
  {
   "cell_type": "markdown",
   "metadata": {},
   "source": [
    "# UDE frente a DERMIS"
   ]
  },
  {
   "cell_type": "code",
   "execution_count": 13,
   "metadata": {},
   "outputs": [
    {
     "data": {
      "image/png": "[encoded data removed]",
      "text/plain": [
       "<Figure size 432x288 with 1 Axes>"
      ]
     },
     "metadata": {},
     "output_type": "display_data"
    }
   ],
   "source": [
    "linear_regressor = LinearRegression()  # create object for the class\n",
    "linear_regressor.fit(-np.array(delta_UDE).reshape(-1, 1), -np.array(delta_DERMIS).reshape(-1, 1))  # perform linear regression\n",
    "Y_pred = linear_regressor.predict(-np.array(delta_UDE).reshape(-1,1))  # make predictions\n",
    "\n",
    "plt.plot(-delta_UDE, Y_pred, color='black')\n",
    "plt.scatter(-delta_UDE,-delta_DERMIS)\n",
    "plt.title(\"Correlación entre UDE y DERMIS\")\n",
    "plt.xlabel(\"-(UDE control - UDE basal)\")\n",
    "plt.ylabel(\"-(DERMIS control - DERMIS basal)\")\n",
    "pp = stats.pearsonr(-delta_UDE,-delta_DERMIS)\n",
    "\n",
    "plt.text(0, 80, r'Pearson Coefficient %1.3f'% pp[0], fontsize=12)\n",
    "plt.show()"
   ]
  },
  {
   "cell_type": "code",
   "execution_count": 15,
   "metadata": {},
   "outputs": [
    {
     "data": {
      "text/plain": [
       "array([[1.02602805]])"
      ]
     },
     "execution_count": 15,
     "metadata": {},
     "output_type": "execute_result"
    }
   ],
   "source": [
    "linear_regressor.coef_"
   ]
  },
  {
   "cell_type": "code",
   "execution_count": 16,
   "metadata": {},
   "outputs": [
    {
     "data": {
      "text/plain": [
       "array([15.09204557])"
      ]
     },
     "execution_count": 16,
     "metadata": {},
     "output_type": "execute_result"
    }
   ],
   "source": [
    "linear_regressor.intercept_"
   ]
  },
  {
   "cell_type": "markdown",
   "metadata": {},
   "source": [
    "# SCARS vs ECCA"
   ]
  },
  {
   "cell_type": "code",
   "execution_count": 24,
   "metadata": {},
   "outputs": [
    {
     "data": {
      "text/plain": [
       "Text(0, 0.5, 'Delat SCARS')"
      ]
     },
     "execution_count": 24,
     "metadata": {},
     "output_type": "execute_result"
    },
    {
     "data": {
      "image/png": "[encoded data removed]",
      "text/plain": [
       "<Figure size 432x288 with 1 Axes>"
      ]
     },
     "metadata": {},
     "output_type": "display_data"
    }
   ],
   "source": [
    "plt.scatter(delta_ECCA,delta_SCARS)\n",
    "plt.title(\"Correlación ECCA vs SCARS\")\n",
    "plt.xlabel(\"Delta ECCA\")\n",
    "plt.ylabel(\"Delat SCARS\")"
   ]
  },
  {
   "cell_type": "code",
   "execution_count": null,
   "metadata": {},
   "outputs": [],
   "source": []
  }
 ],
 "metadata": {
  "kernelspec": {
   "display_name": "Python 3",
   "language": "python",
   "name": "python3"
  },
  "language_info": {
   "codemirror_mode": {
    "name": "ipython",
    "version": 3
   },
   "file_extension": ".py",
   "mimetype": "text/x-python",
   "name": "python",
   "nbconvert_exporter": "python",
   "pygments_lexer": "ipython3",
   "version": "3.7.1"
  }
 },
 "nbformat": 4,
 "nbformat_minor": 2
}
